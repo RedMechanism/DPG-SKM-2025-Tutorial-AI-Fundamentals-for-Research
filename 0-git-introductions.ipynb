{
 "cells": [
  {
   "cell_type": "markdown",
   "id": "38250724",
   "metadata": {
    "slideshow": {
     "slide_type": "slide"
    }
   },
   "source": [
    "[DPG Regensburg](https://www.dpg-verhandlungen.de/year/2025/conference/regensburg/part/tut/session/1)\n",
    "<h1 style=\"text-align: center; vertical-align: middle;\">  Introduction to neural networks  </h1> \n",
    "\n",
    "<h2 style=\"text-align: center; vertical-align: middle;\">TUT 1: Hands-on Tutorial: AI Fundamentals for Research (joint session BP/TUT/DY/AKPIK) </h2>\n",
    "\t\n",
    "\n",
    "<h3 style=\"text-align: center; vertical-align: middle; margin-top: 1em; margin-bottom: 1em;\">  Jan Bürger, Janine Graser, Robin Msiska, and Arash\n",
    "Rahimi-Iman</h3>\n",
    "\n",
    "\n",
    "<div style=\"clear: both; vertical-align: middle;\"></div> <img src=\"./img/logo-ak-pik_blue.png\" style=\"width: 10%; float: left; vertical-align: top;\" />\n",
    "<img src=\"./img/erum-data-hub_logo.png\" style=\"width: 20%; float: right; vertical-align: top;\" /> \n",
    "\n"
   ]
  },
  {
   "cell_type": "markdown",
   "id": "a0ef66c2",
   "metadata": {
    "slideshow": {
     "slide_type": "slide"
    }
   },
   "source": [
    "\n",
    "Original Tutorial by Dr. Andrea Santamaria Garcia and Chenran Xu.\n",
    "This Tutorial was held at the [Deep Learning School](https://indico.desy.de/event/40559/timetable/) 'Basic Concepts' of the [ErUM-Data-Hub](https://erumdatahub.de).\n",
    " \n",
    "\n",
    "<div style=\"width: 50%; horizontal-align: middle; vertical-align: middle; \">\n",
    "<img src=\"./img/KIT_logo.svg\" style=\"width: 30%; float: left; vertical-align: botton;\" /> \n",
    " <img src=\"./img/erum-data-hub_logo.png\" style=\"width: 40%; float: right; vertical-align: botton;\" />\n",
    "</div>\n",
    "\n"
   ]
  },
  {
   "cell_type": "markdown",
   "id": "14300c47",
   "metadata": {},
   "source": [
    "##### Abstract:\n",
    "In the first half of the interactive session, participants will work with Jupyter Notebooks to explore practical applications of machine learning. They will train simple neural networks to predict a mathematical function, gaining hands-on experience in tuning key parameters. Since neural networks can typically be considered universal function approximators, this concept is effectively illustrated using a one-dimensional function, making it easy to visualize and understand.\n",
    "\n",
    "Keywords: AI; hands-on"
   ]
  },
  {
   "cell_type": "markdown",
   "id": "80499cdf",
   "metadata": {},
   "source": [
    "# Motivation - Why fitting 1d mathematical function?\n",
    "- Neuronal networks fitting to a abstract function\n",
    "- To simplify, we use 1d mathematical function to understand the basics of NN"
   ]
  },
  {
   "cell_type": "markdown",
   "id": "a57cc074",
   "metadata": {
    "slideshow": {
     "slide_type": "slide"
    }
   },
   "source": [
    "\n",
    "\n",
    "# Get the repository with Git\n",
    "[GitHub repository](https://github.com/RedMechanism/DPG-SKM-2025-Tutorial-AI-Fundamentals-for-Research) \n",
    "\n",
    "You will need to have Git previously installed in your computer.\n",
    "To check if you have it installed, open your terminal and type:\n",
    "\n",
    "``` bash\n",
    "git --version\n",
    "```\n",
    "\n",
    "## Git installation in mac\n",
    "\n",
    "``` bash\n",
    "brew update\n",
    "brew install git\n",
    "```\n",
    "\n",
    "## Git installation in linux\n",
    "\n",
    "In Ubuntu/Debian\n",
    "\n",
    "``` bash\n",
    "sudo apt install git\n",
    "```"
   ]
  },
  {
   "cell_type": "markdown",
   "id": "4d250bb9",
   "metadata": {
    "slideshow": {
     "slide_type": "slide"
    }
   },
   "source": [
    "## Download the repository\n",
    "\n",
    "Once you have Git installed open your terminal, go to your desired directory, and type:\n",
    "\n",
    "``` bash\n",
    "git clone https://github.dev/RedMechanism/DPG-SKM-2025-Tutorial-AI-Fundamentals-for-Research\n",
    "cd DPG-SKM-2025-Tutorial-AI-Fundamentals-for-Research\n",
    "```\n",
    "\n",
    "Or get the repository with direct download:\n",
    "\n",
    "``` bash\n",
    "wget https://github.dev/RedMechanism/DPG-SKM-2025-Tutorial-AI-Fundamentals-for-Research/archive/refs/heads/main.zip\n",
    "unzip main.zip\n",
    "cd DPG-SKM-2025-Tutorial-AI-Fundamentals-for-Research\n",
    "```"
   ]
  },
  {
   "cell_type": "markdown",
   "id": "61907598",
   "metadata": {
    "slideshow": {
     "slide_type": "slide"
    }
   },
   "source": [
    "# Install dependencies\n",
    "\n",
    "You need to install the dependencies before running the notebooks.\n",
    "\n",
    "## Using conda\n",
    "\n",
    "If you don't have conda installed already and want to use conda for environment management, you can install the miniconda as [described here](https://docs.conda.io/projects/miniconda/en/latest/miniconda-install.html).\n",
    "\n",
    "Then run the following commands:\n",
    "\n",
    "```bash\n",
    "conda create -n nn-tutorial python=3.10.3\n",
    "conda activate nn-tutorial\n",
    "pip install -r requirements.txt\n",
    "jupyter contrib nbextension install --user\n",
    "jupyter nbextension enable varInspector/main\n",
    "```\n",
    "\n",
    "- After the tutorial you can remove your environment with `conda remove -n nn-tutorial --all`"
   ]
  },
  {
   "cell_type": "markdown",
   "id": "39f57d60",
   "metadata": {
    "slideshow": {
     "slide_type": "slide"
    }
   },
   "source": [
    "# Install dependencies\n",
    "\n",
    "You need to install the dependencies before running the notebooks.\n",
    "\n",
    "## Using venv only\n",
    "\n",
    "If you do not have conda installed:\n",
    "\n",
    "Alternatively, you can create the virtual env with `venv` in the standard library\n",
    "\n",
    "```bash\n",
    "python -m venv nn-tutorial\n",
    "```\n",
    "\n",
    "and activate the env with $ source <venv>/bin/activate (bash) or C:> <venv>/Scripts/activate.bat (Windows)\n",
    "\n",
    "Then, install the packages with pip within the activated environment\n",
    "\n",
    "\n",
    "```bash\n",
    "python -m pip install -r requirements.txt\n",
    "jupyter contrib nbextension install --user\n",
    "jupyter nbextension enable varInspector/main\n",
    "```"
   ]
  },
  {
   "cell_type": "markdown",
   "id": "33befbca",
   "metadata": {
    "slideshow": {
     "slide_type": "slide"
    }
   },
   "source": [
    "# Running the tutorial\n",
    "\n",
    "You can start the notebook in the terminal, and it will start a browser automatically\n",
    "\n",
    "```bash\n",
    "jupyter notebook\n",
    "```\n",
    "\n",
    "Alternatively, you can use supported Editor to run the jupyter notebooks, e.g. with VS Code."
   ]
  },
  {
   "cell_type": "code",
   "execution_count": null,
   "id": "b66aa936",
   "metadata": {
    "slideshow": {
     "slide_type": "slide"
    }
   },
   "outputs": [],
   "source": []
  }
 ],
 "metadata": {
  "celltoolbar": "Slideshow",
  "kernelspec": {
   "display_name": "Python 3 (ipykernel)",
   "language": "python",
   "name": "python3"
  },
  "language_info": {
   "codemirror_mode": {
    "name": "ipython",
    "version": 3
   },
   "file_extension": ".py",
   "mimetype": "text/x-python",
   "name": "python",
   "nbconvert_exporter": "python",
   "pygments_lexer": "ipython3",
   "version": "3.10.3"
  },
  "varInspector": {
   "cols": {
    "lenName": 16,
    "lenType": 16,
    "lenVar": 40
   },
   "kernels_config": {
    "python": {
     "delete_cmd_postfix": "",
     "delete_cmd_prefix": "del ",
     "library": "var_list.py",
     "varRefreshCmd": "print(var_dic_list())"
    },
    "r": {
     "delete_cmd_postfix": ") ",
     "delete_cmd_prefix": "rm(",
     "library": "var_list.r",
     "varRefreshCmd": "cat(var_dic_list()) "
    }
   },
   "types_to_exclude": [
    "module",
    "function",
    "builtin_function_or_method",
    "instance",
    "_Feature"
   ],
   "window_display": false
  },
  "vscode": {
   "interpreter": {
    "hash": "aefbd9db9e80b76479690376e0f6858b117f02d7b00937331627c3692732c1c7"
   }
  }
 },
 "nbformat": 4,
 "nbformat_minor": 5
}
